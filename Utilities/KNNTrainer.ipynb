{
 "cells": [
  {
   "cell_type": "markdown",
   "metadata": {},
   "source": [
    "# Hand sign classification\n",
    "### The method of fragmentation\n",
    "\n",
    "The image is divided into blocks of 10x10. In each block, we calculate the area of contour lying in that block and divide it by the area of that block. If there is no contour, the area is simply zero.\n",
    "\n",
    "This calculation is performed 100 times and we get 100 features for a single image. \n",
    "\n",
    "These features are now trained using the KNN classifier\n",
    "\n",
    "The features found from training images which had been saved in csv file is used by this program. The feature set from this csv file is used for training of KNN"
   ]
  },
  {
   "cell_type": "markdown",
   "metadata": {},
   "source": [
    "### Fetching data from file"
   ]
  },
  {
   "cell_type": "code",
   "execution_count": 6,
   "metadata": {},
   "outputs": [
    {
     "name": "stdout",
     "output_type": "stream",
     "text": [
      "Total data parsed: 5577\n",
      "Data loaded. You may now start classification.\n"
     ]
    }
   ],
   "source": [
    "import pandas as pd\n",
    "import matplotlib.pyplot as plt\n",
    "import matplotlib.cm as cm\n",
    "import numpy as np\n",
    "from sklearn.model_selection import train_test_split as tts\n",
    "from sklearn.metrics import confusion_matrix\n",
    "from random import randint\n",
    "\n",
    "# Change the filename to \"your\" features file\n",
    "data = pd.read_csv('./SampleFeatureSetFiles/silatra_digits_letters_pregenerated_sample.csv',dtype={100: np.unicode_})\n",
    "print('Total data parsed: %d'%(len(data)))\n",
    "\n",
    "\n",
    "print('Data loaded. You may now start classification.')"
   ]
  },
  {
   "cell_type": "markdown",
   "metadata": {},
   "source": [
    "### KNN classifier"
   ]
  },
  {
   "cell_type": "code",
   "execution_count": 7,
   "metadata": {},
   "outputs": [
    {
     "name": "stdout",
     "output_type": "stream",
     "text": [
      "Random state = 291\n",
      "Accuracy: 99.642%\n",
      "\n",
      "Getting confusion matrix..\n",
      "189,0,0,0,0,0,0,0,0,\n",
      "0,171,0,0,0,0,0,0,0,\n",
      "0,0,175,0,0,0,0,0,0,\n",
      "0,0,0,262,0,1,0,0,0,\n",
      "0,0,0,0,90,0,0,0,0,\n",
      "0,1,0,1,0,137,2,0,0,\n",
      "0,0,0,0,0,0,181,0,0,\n",
      "0,0,0,0,0,0,0,288,0,\n",
      "0,0,0,0,0,1,0,0,175,\n",
      "Model saved\n"
     ]
    }
   ],
   "source": [
    "from sklearn.neighbors import KNeighborsClassifier\n",
    "from random import randint\n",
    "from sklearn.model_selection import KFold\n",
    "import pickle, time\n",
    "\n",
    "X = data[['f'+str(i) for i in range(100)]].values\n",
    "Y = data['label'].values\n",
    "\n",
    "r_val = randint(1,1000)\n",
    "print('Random state = %3d'%(r_val))\n",
    "X_train, X_test, Y_train, Y_test = tts(X,Y,test_size=0.3, random_state=164)\n",
    "# 563, 164\n",
    "\n",
    "print('Adding data...',end='\\r')\n",
    "classifier = KNeighborsClassifier(n_neighbors=3, algorithm='brute')\n",
    "classifier.fit(X_train,Y_train)\n",
    "\n",
    "print('Testing...',end='\\r')\n",
    "acc = classifier.score(X_test, Y_test)\n",
    "print('Accuracy: %.3f%%' % (acc*100))\n",
    "\n",
    "print('\\nGetting confusion matrix..')\n",
    "preds = classifier.predict(X_test)\n",
    "confused = confusion_matrix(Y_test, preds)\n",
    "\n",
    "for row in confused:\n",
    "    for elem in row: print(elem,end=',')\n",
    "    print()\n",
    "save_keliye_classifier = KNeighborsClassifier(n_neighbors=3)\n",
    "save_keliye_classifier.fit(X, Y)\n",
    "\n",
    "# This is an incorrect temporary file so as to prevent ruining the sample file.\n",
    "# If you understand this and find this, you will be able to change it.\n",
    "pickle.dump(save_keliye_classifier, open('./TempKNNModels/silatra_KNN_Model_digits_letters_temp.sav','wb'))\n",
    "print('Model saved')"
   ]
  },
  {
   "cell_type": "code",
   "execution_count": null,
   "metadata": {},
   "outputs": [],
   "source": []
  }
 ],
 "metadata": {
  "kernelspec": {
   "display_name": "cv",
   "language": "python",
   "name": "cv"
  },
  "language_info": {
   "codemirror_mode": {
    "name": "ipython",
    "version": 3
   },
   "file_extension": ".py",
   "mimetype": "text/x-python",
   "name": "python",
   "nbconvert_exporter": "python",
   "pygments_lexer": "ipython3",
   "version": "3.6.9"
  }
 },
 "nbformat": 4,
 "nbformat_minor": 2
}
